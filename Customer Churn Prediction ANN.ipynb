{
 "cells": [
  {
   "cell_type": "code",
   "execution_count": 2,
   "metadata": {
    "ExecuteTime": {
     "end_time": "2021-07-01T17:02:40.176439Z",
     "start_time": "2021-07-01T17:02:38.880362Z"
    }
   },
   "outputs": [
    {
     "data": {
      "text/html": [
       "<div>\n",
       "<style scoped>\n",
       "    .dataframe tbody tr th:only-of-type {\n",
       "        vertical-align: middle;\n",
       "    }\n",
       "\n",
       "    .dataframe tbody tr th {\n",
       "        vertical-align: top;\n",
       "    }\n",
       "\n",
       "    .dataframe thead th {\n",
       "        text-align: right;\n",
       "    }\n",
       "</style>\n",
       "<table border=\"1\" class=\"dataframe\">\n",
       "  <thead>\n",
       "    <tr style=\"text-align: right;\">\n",
       "      <th></th>\n",
       "      <th>RowNumber</th>\n",
       "      <th>CustomerId</th>\n",
       "      <th>Surname</th>\n",
       "      <th>CreditScore</th>\n",
       "      <th>Geography</th>\n",
       "      <th>Gender</th>\n",
       "      <th>Age</th>\n",
       "      <th>Tenure</th>\n",
       "      <th>Balance</th>\n",
       "      <th>NumOfProducts</th>\n",
       "      <th>HasCrCard</th>\n",
       "      <th>IsActiveMember</th>\n",
       "      <th>EstimatedSalary</th>\n",
       "      <th>Exited</th>\n",
       "    </tr>\n",
       "  </thead>\n",
       "  <tbody>\n",
       "    <tr>\n",
       "      <th>0</th>\n",
       "      <td>1</td>\n",
       "      <td>15634602</td>\n",
       "      <td>Hargrave</td>\n",
       "      <td>619</td>\n",
       "      <td>France</td>\n",
       "      <td>Female</td>\n",
       "      <td>42</td>\n",
       "      <td>2</td>\n",
       "      <td>0.00</td>\n",
       "      <td>1</td>\n",
       "      <td>1</td>\n",
       "      <td>1</td>\n",
       "      <td>101348.88</td>\n",
       "      <td>1</td>\n",
       "    </tr>\n",
       "    <tr>\n",
       "      <th>1</th>\n",
       "      <td>2</td>\n",
       "      <td>15647311</td>\n",
       "      <td>Hill</td>\n",
       "      <td>608</td>\n",
       "      <td>Spain</td>\n",
       "      <td>Female</td>\n",
       "      <td>41</td>\n",
       "      <td>1</td>\n",
       "      <td>83807.86</td>\n",
       "      <td>1</td>\n",
       "      <td>0</td>\n",
       "      <td>1</td>\n",
       "      <td>112542.58</td>\n",
       "      <td>0</td>\n",
       "    </tr>\n",
       "    <tr>\n",
       "      <th>2</th>\n",
       "      <td>3</td>\n",
       "      <td>15619304</td>\n",
       "      <td>Onio</td>\n",
       "      <td>502</td>\n",
       "      <td>France</td>\n",
       "      <td>Female</td>\n",
       "      <td>42</td>\n",
       "      <td>8</td>\n",
       "      <td>159660.80</td>\n",
       "      <td>3</td>\n",
       "      <td>1</td>\n",
       "      <td>0</td>\n",
       "      <td>113931.57</td>\n",
       "      <td>1</td>\n",
       "    </tr>\n",
       "    <tr>\n",
       "      <th>3</th>\n",
       "      <td>4</td>\n",
       "      <td>15701354</td>\n",
       "      <td>Boni</td>\n",
       "      <td>699</td>\n",
       "      <td>France</td>\n",
       "      <td>Female</td>\n",
       "      <td>39</td>\n",
       "      <td>1</td>\n",
       "      <td>0.00</td>\n",
       "      <td>2</td>\n",
       "      <td>0</td>\n",
       "      <td>0</td>\n",
       "      <td>93826.63</td>\n",
       "      <td>0</td>\n",
       "    </tr>\n",
       "    <tr>\n",
       "      <th>4</th>\n",
       "      <td>5</td>\n",
       "      <td>15737888</td>\n",
       "      <td>Mitchell</td>\n",
       "      <td>850</td>\n",
       "      <td>Spain</td>\n",
       "      <td>Female</td>\n",
       "      <td>43</td>\n",
       "      <td>2</td>\n",
       "      <td>125510.82</td>\n",
       "      <td>1</td>\n",
       "      <td>1</td>\n",
       "      <td>1</td>\n",
       "      <td>79084.10</td>\n",
       "      <td>0</td>\n",
       "    </tr>\n",
       "  </tbody>\n",
       "</table>\n",
       "</div>"
      ],
      "text/plain": [
       "   RowNumber  CustomerId   Surname  CreditScore Geography  Gender  Age  \\\n",
       "0          1    15634602  Hargrave          619    France  Female   42   \n",
       "1          2    15647311      Hill          608     Spain  Female   41   \n",
       "2          3    15619304      Onio          502    France  Female   42   \n",
       "3          4    15701354      Boni          699    France  Female   39   \n",
       "4          5    15737888  Mitchell          850     Spain  Female   43   \n",
       "\n",
       "   Tenure    Balance  NumOfProducts  HasCrCard  IsActiveMember  \\\n",
       "0       2       0.00              1          1               1   \n",
       "1       1   83807.86              1          0               1   \n",
       "2       8  159660.80              3          1               0   \n",
       "3       1       0.00              2          0               0   \n",
       "4       2  125510.82              1          1               1   \n",
       "\n",
       "   EstimatedSalary  Exited  \n",
       "0        101348.88       1  \n",
       "1        112542.58       0  \n",
       "2        113931.57       1  \n",
       "3         93826.63       0  \n",
       "4         79084.10       0  "
      ]
     },
     "execution_count": 2,
     "metadata": {},
     "output_type": "execute_result"
    }
   ],
   "source": [
    "import numpy as np\n",
    "import matplotlib.pyplot as plt\n",
    "import pandas as pd \n",
    "dataset = pd.read_csv('Churn_Modelling.csv')\n",
    "dataset.head()"
   ]
  },
  {
   "cell_type": "code",
   "execution_count": 5,
   "metadata": {
    "ExecuteTime": {
     "end_time": "2021-07-01T17:37:56.151764Z",
     "start_time": "2021-07-01T17:37:56.074518Z"
    }
   },
   "outputs": [],
   "source": [
    "X= dataset.iloc[:,3:13]\n",
    "y= dataset.iloc[:,13]\n",
    "geography = pd.get_dummies(X['Geography'],drop_first=True)\n",
    "gender = pd.get_dummies(X['Gender'],drop_first=True)\n",
    "X=pd.concat([X,geography,gender],axis=1)\n",
    "X=X.drop(['Geography','Gender'],axis=1)\n",
    "from sklearn.model_selection import train_test_split\n",
    "X_train,X_test,y_train,y_test = train_test_split(X,y,test_size=0.2,random_state=0)\n",
    "from sklearn.preprocessing import StandardScaler\n",
    "sc = StandardScaler()\n",
    "X_train = sc.fit_transform(X_train)\n",
    "X_test = sc.fit_transform(X_test)"
   ]
  },
  {
   "cell_type": "code",
   "execution_count": 8,
   "metadata": {
    "ExecuteTime": {
     "end_time": "2021-07-01T17:46:10.947875Z",
     "start_time": "2021-07-01T17:46:10.931613Z"
    }
   },
   "outputs": [],
   "source": [
    "import keras\n",
    "from keras.models import Sequential\n",
    "from keras.layers import Dense\n",
    "from keras.layers import LeakyReLU,PReLU,ELU\n",
    "from keras.layers import Dropout"
   ]
  },
  {
   "cell_type": "code",
   "execution_count": 9,
   "metadata": {
    "ExecuteTime": {
     "end_time": "2021-07-01T17:46:31.077071Z",
     "start_time": "2021-07-01T17:46:30.789564Z"
    }
   },
   "outputs": [],
   "source": [
    "classifier = Sequential()"
   ]
  },
  {
   "cell_type": "code",
   "execution_count": 11,
   "metadata": {
    "ExecuteTime": {
     "end_time": "2021-07-01T17:51:12.414806Z",
     "start_time": "2021-07-01T17:51:12.308786Z"
    }
   },
   "outputs": [],
   "source": [
    "classifier.add(Dense(units=6,kernel_initializer='he_uniform',activation='relu',input_dim=11))"
   ]
  },
  {
   "cell_type": "code",
   "execution_count": 13,
   "metadata": {
    "ExecuteTime": {
     "end_time": "2021-07-01T17:54:23.622154Z",
     "start_time": "2021-07-01T17:54:23.527992Z"
    }
   },
   "outputs": [],
   "source": [
    "classifier.add(Dense(units=6,kernel_initializer='he_uniform',activation='relu'))\n",
    "classifier.add(Dense(units=1,kernel_initializer='glorot_uniform',activation='sigmoid'))"
   ]
  },
  {
   "cell_type": "code",
   "execution_count": 14,
   "metadata": {
    "ExecuteTime": {
     "end_time": "2021-07-01T17:55:40.566320Z",
     "start_time": "2021-07-01T17:55:40.548355Z"
    }
   },
   "outputs": [
    {
     "name": "stdout",
     "output_type": "stream",
     "text": [
      "Model: \"sequential\"\n",
      "_________________________________________________________________\n",
      "Layer (type)                 Output Shape              Param #   \n",
      "=================================================================\n",
      "dense (Dense)                (None, 6)                 72        \n",
      "_________________________________________________________________\n",
      "dense_1 (Dense)              (None, 6)                 42        \n",
      "_________________________________________________________________\n",
      "dense_2 (Dense)              (None, 6)                 42        \n",
      "_________________________________________________________________\n",
      "dense_3 (Dense)              (None, 1)                 7         \n",
      "=================================================================\n",
      "Total params: 163\n",
      "Trainable params: 163\n",
      "Non-trainable params: 0\n",
      "_________________________________________________________________\n"
     ]
    }
   ],
   "source": [
    "classifier.summary()"
   ]
  },
  {
   "cell_type": "code",
   "execution_count": 17,
   "metadata": {
    "ExecuteTime": {
     "end_time": "2021-07-01T18:04:23.166052Z",
     "start_time": "2021-07-01T17:59:52.835375Z"
    }
   },
   "outputs": [
    {
     "name": "stdout",
     "output_type": "stream",
     "text": [
      "Epoch 1/100\n",
      "536/536 [==============================] - 6s 7ms/step - loss: 0.6078 - accuracy: 0.7018 - val_loss: 0.4940 - val_accuracy: 0.7952\n",
      "Epoch 2/100\n",
      "536/536 [==============================] - 4s 7ms/step - loss: 0.4817 - accuracy: 0.7930 - val_loss: 0.4590 - val_accuracy: 0.7993\n",
      "Epoch 3/100\n",
      "536/536 [==============================] - 3s 6ms/step - loss: 0.4410 - accuracy: 0.8138 - val_loss: 0.4434 - val_accuracy: 0.8058\n",
      "Epoch 4/100\n",
      "536/536 [==============================] - 4s 7ms/step - loss: 0.4410 - accuracy: 0.8036 - val_loss: 0.4357 - val_accuracy: 0.8092\n",
      "Epoch 5/100\n",
      "536/536 [==============================] - 2s 5ms/step - loss: 0.4244 - accuracy: 0.8184 - val_loss: 0.4319 - val_accuracy: 0.8099\n",
      "Epoch 6/100\n",
      "536/536 [==============================] - 3s 5ms/step - loss: 0.4266 - accuracy: 0.8137 - val_loss: 0.4284 - val_accuracy: 0.8114\n",
      "Epoch 7/100\n",
      "536/536 [==============================] - 3s 6ms/step - loss: 0.4110 - accuracy: 0.8249 - val_loss: 0.4217 - val_accuracy: 0.8171\n",
      "Epoch 8/100\n",
      "536/536 [==============================] - 3s 5ms/step - loss: 0.4038 - accuracy: 0.8306 - val_loss: 0.4159 - val_accuracy: 0.8220\n",
      "Epoch 9/100\n",
      "536/536 [==============================] - 3s 5ms/step - loss: 0.3894 - accuracy: 0.8355 - val_loss: 0.4060 - val_accuracy: 0.8270\n",
      "Epoch 10/100\n",
      "536/536 [==============================] - 2s 5ms/step - loss: 0.3802 - accuracy: 0.8372 - val_loss: 0.3990 - val_accuracy: 0.8323\n",
      "Epoch 11/100\n",
      "536/536 [==============================] - 3s 5ms/step - loss: 0.3665 - accuracy: 0.8530 - val_loss: 0.3908 - val_accuracy: 0.8330\n",
      "Epoch 12/100\n",
      "536/536 [==============================] - 4s 7ms/step - loss: 0.3550 - accuracy: 0.8531 - val_loss: 0.3824 - val_accuracy: 0.8391\n",
      "Epoch 13/100\n",
      "536/536 [==============================] - 4s 7ms/step - loss: 0.3563 - accuracy: 0.8543 - val_loss: 0.3790 - val_accuracy: 0.8417\n",
      "Epoch 14/100\n",
      "536/536 [==============================] - 4s 7ms/step - loss: 0.3664 - accuracy: 0.8470 - val_loss: 0.3763 - val_accuracy: 0.8417\n",
      "Epoch 15/100\n",
      "536/536 [==============================] - 3s 6ms/step - loss: 0.3531 - accuracy: 0.8503 - val_loss: 0.3752 - val_accuracy: 0.8444\n",
      "Epoch 16/100\n",
      "536/536 [==============================] - 3s 6ms/step - loss: 0.3406 - accuracy: 0.8595 - val_loss: 0.3768 - val_accuracy: 0.8429\n",
      "Epoch 17/100\n",
      "536/536 [==============================] - 3s 6ms/step - loss: 0.3481 - accuracy: 0.8585 - val_loss: 0.3735 - val_accuracy: 0.8478\n",
      "Epoch 18/100\n",
      "536/536 [==============================] - 3s 6ms/step - loss: 0.3413 - accuracy: 0.8548 - val_loss: 0.3757 - val_accuracy: 0.8455\n",
      "Epoch 19/100\n",
      "536/536 [==============================] - 3s 6ms/step - loss: 0.3319 - accuracy: 0.8638 - val_loss: 0.3711 - val_accuracy: 0.8455\n",
      "Epoch 20/100\n",
      "536/536 [==============================] - 3s 6ms/step - loss: 0.3373 - accuracy: 0.8586 - val_loss: 0.3704 - val_accuracy: 0.8478\n",
      "Epoch 21/100\n",
      "536/536 [==============================] - 3s 6ms/step - loss: 0.3288 - accuracy: 0.8679 - val_loss: 0.3698 - val_accuracy: 0.8466\n",
      "Epoch 22/100\n",
      "536/536 [==============================] - 4s 8ms/step - loss: 0.3413 - accuracy: 0.8593 - val_loss: 0.3716 - val_accuracy: 0.8497\n",
      "Epoch 23/100\n",
      "536/536 [==============================] - 4s 7ms/step - loss: 0.3377 - accuracy: 0.8582 - val_loss: 0.3685 - val_accuracy: 0.8516\n",
      "Epoch 24/100\n",
      "536/536 [==============================] - 3s 6ms/step - loss: 0.3137 - accuracy: 0.8729 - val_loss: 0.3679 - val_accuracy: 0.8497\n",
      "Epoch 25/100\n",
      "536/536 [==============================] - 3s 6ms/step - loss: 0.3348 - accuracy: 0.8629 - val_loss: 0.3679 - val_accuracy: 0.8527\n",
      "Epoch 26/100\n",
      "536/536 [==============================] - 2s 4ms/step - loss: 0.3176 - accuracy: 0.8668 - val_loss: 0.3681 - val_accuracy: 0.8482\n",
      "Epoch 27/100\n",
      "536/536 [==============================] - 3s 5ms/step - loss: 0.3350 - accuracy: 0.8621 - val_loss: 0.3716 - val_accuracy: 0.8463\n",
      "Epoch 28/100\n",
      "536/536 [==============================] - 3s 6ms/step - loss: 0.3206 - accuracy: 0.8608 - val_loss: 0.3654 - val_accuracy: 0.8489\n",
      "Epoch 29/100\n",
      "536/536 [==============================] - 2s 4ms/step - loss: 0.3354 - accuracy: 0.8612 - val_loss: 0.3762 - val_accuracy: 0.8459\n",
      "Epoch 30/100\n",
      "536/536 [==============================] - 2s 4ms/step - loss: 0.3402 - accuracy: 0.8513 - val_loss: 0.3652 - val_accuracy: 0.8554\n",
      "Epoch 31/100\n",
      "536/536 [==============================] - 3s 6ms/step - loss: 0.3261 - accuracy: 0.8632 - val_loss: 0.3646 - val_accuracy: 0.8523\n",
      "Epoch 32/100\n",
      "536/536 [==============================] - 3s 5ms/step - loss: 0.3462 - accuracy: 0.8558 - val_loss: 0.3665 - val_accuracy: 0.8516\n",
      "Epoch 33/100\n",
      "536/536 [==============================] - 3s 5ms/step - loss: 0.3317 - accuracy: 0.8574 - val_loss: 0.3642 - val_accuracy: 0.8546\n",
      "Epoch 34/100\n",
      "536/536 [==============================] - 2s 4ms/step - loss: 0.3248 - accuracy: 0.8652 - val_loss: 0.3653 - val_accuracy: 0.8538\n",
      "Epoch 35/100\n",
      "536/536 [==============================] - 2s 4ms/step - loss: 0.3328 - accuracy: 0.8528 - val_loss: 0.3648 - val_accuracy: 0.8508\n",
      "Epoch 36/100\n",
      "536/536 [==============================] - 3s 5ms/step - loss: 0.3276 - accuracy: 0.8621 - val_loss: 0.3652 - val_accuracy: 0.8504\n",
      "Epoch 37/100\n",
      "536/536 [==============================] - 3s 6ms/step - loss: 0.3169 - accuracy: 0.8651 - val_loss: 0.3625 - val_accuracy: 0.8546\n",
      "Epoch 38/100\n",
      "536/536 [==============================] - 3s 5ms/step - loss: 0.3311 - accuracy: 0.8571 - val_loss: 0.3647 - val_accuracy: 0.8516\n",
      "Epoch 39/100\n",
      "536/536 [==============================] - 2s 4ms/step - loss: 0.3300 - accuracy: 0.8553 - val_loss: 0.3666 - val_accuracy: 0.8535\n",
      "Epoch 40/100\n",
      "536/536 [==============================] - 3s 5ms/step - loss: 0.3476 - accuracy: 0.8520 - val_loss: 0.3644 - val_accuracy: 0.8542\n",
      "Epoch 41/100\n",
      "536/536 [==============================] - 3s 6ms/step - loss: 0.3315 - accuracy: 0.8644 - val_loss: 0.3640 - val_accuracy: 0.8546\n",
      "Epoch 42/100\n",
      "536/536 [==============================] - 2s 5ms/step - loss: 0.3328 - accuracy: 0.8655 - val_loss: 0.3651 - val_accuracy: 0.8527\n",
      "Epoch 43/100\n",
      "536/536 [==============================] - 3s 5ms/step - loss: 0.3229 - accuracy: 0.8653 - val_loss: 0.3640 - val_accuracy: 0.8531\n",
      "Epoch 44/100\n",
      "536/536 [==============================] - 3s 5ms/step - loss: 0.3283 - accuracy: 0.8604 - val_loss: 0.3648 - val_accuracy: 0.8542\n",
      "Epoch 45/100\n",
      "536/536 [==============================] - 3s 6ms/step - loss: 0.3382 - accuracy: 0.8619 - val_loss: 0.3623 - val_accuracy: 0.8565\n",
      "Epoch 46/100\n",
      "536/536 [==============================] - 2s 4ms/step - loss: 0.3265 - accuracy: 0.8589 - val_loss: 0.3636 - val_accuracy: 0.8538\n",
      "Epoch 47/100\n",
      "536/536 [==============================] - 2s 4ms/step - loss: 0.3258 - accuracy: 0.8581 - val_loss: 0.3618 - val_accuracy: 0.8542\n",
      "Epoch 48/100\n",
      "536/536 [==============================] - 3s 6ms/step - loss: 0.3148 - accuracy: 0.8676 - val_loss: 0.3647 - val_accuracy: 0.8538\n",
      "Epoch 49/100\n",
      "536/536 [==============================] - 3s 5ms/step - loss: 0.3214 - accuracy: 0.8659 - val_loss: 0.3627 - val_accuracy: 0.8550\n",
      "Epoch 50/100\n",
      "536/536 [==============================] - 2s 4ms/step - loss: 0.3331 - accuracy: 0.8651 - val_loss: 0.3642 - val_accuracy: 0.8508\n",
      "Epoch 51/100\n",
      "536/536 [==============================] - 3s 5ms/step - loss: 0.3266 - accuracy: 0.8604 - val_loss: 0.3629 - val_accuracy: 0.8523\n",
      "Epoch 52/100\n",
      "536/536 [==============================] - 3s 6ms/step - loss: 0.3412 - accuracy: 0.8578 - val_loss: 0.3625 - val_accuracy: 0.8550\n",
      "Epoch 53/100\n",
      "536/536 [==============================] - 3s 5ms/step - loss: 0.3372 - accuracy: 0.8574 - val_loss: 0.3657 - val_accuracy: 0.8527\n",
      "Epoch 54/100\n",
      "536/536 [==============================] - 3s 5ms/step - loss: 0.3217 - accuracy: 0.8678 - val_loss: 0.3642 - val_accuracy: 0.8523\n",
      "Epoch 55/100\n",
      "536/536 [==============================] - 3s 6ms/step - loss: 0.3268 - accuracy: 0.8629 - val_loss: 0.3643 - val_accuracy: 0.8554\n",
      "Epoch 56/100\n",
      "536/536 [==============================] - 3s 5ms/step - loss: 0.3065 - accuracy: 0.8676 - val_loss: 0.3627 - val_accuracy: 0.8538\n",
      "Epoch 57/100\n",
      "536/536 [==============================] - 2s 4ms/step - loss: 0.3389 - accuracy: 0.8553 - val_loss: 0.3658 - val_accuracy: 0.8512\n"
     ]
    },
    {
     "name": "stdout",
     "output_type": "stream",
     "text": [
      "Epoch 58/100\n",
      "536/536 [==============================] - 2s 4ms/step - loss: 0.3310 - accuracy: 0.8621 - val_loss: 0.3637 - val_accuracy: 0.8569\n",
      "Epoch 59/100\n",
      "536/536 [==============================] - 3s 5ms/step - loss: 0.3372 - accuracy: 0.8588 - val_loss: 0.3632 - val_accuracy: 0.8542\n",
      "Epoch 60/100\n",
      "536/536 [==============================] - 3s 5ms/step - loss: 0.3323 - accuracy: 0.8550 - val_loss: 0.3646 - val_accuracy: 0.8538\n",
      "Epoch 61/100\n",
      "536/536 [==============================] - 2s 4ms/step - loss: 0.3164 - accuracy: 0.8689 - val_loss: 0.3644 - val_accuracy: 0.8516\n",
      "Epoch 62/100\n",
      "536/536 [==============================] - 2s 4ms/step - loss: 0.3189 - accuracy: 0.8667 - val_loss: 0.3631 - val_accuracy: 0.8542\n",
      "Epoch 63/100\n",
      "536/536 [==============================] - 2s 4ms/step - loss: 0.3136 - accuracy: 0.8691 - val_loss: 0.3626 - val_accuracy: 0.8542\n",
      "Epoch 64/100\n",
      "536/536 [==============================] - 3s 5ms/step - loss: 0.3149 - accuracy: 0.8703 - val_loss: 0.3645 - val_accuracy: 0.8542\n",
      "Epoch 65/100\n",
      "536/536 [==============================] - 2s 4ms/step - loss: 0.3202 - accuracy: 0.8601 - val_loss: 0.3673 - val_accuracy: 0.8550\n",
      "Epoch 66/100\n",
      "536/536 [==============================] - 2s 4ms/step - loss: 0.3345 - accuracy: 0.8588 - val_loss: 0.3675 - val_accuracy: 0.8527\n",
      "Epoch 67/100\n",
      "536/536 [==============================] - 2s 4ms/step - loss: 0.3179 - accuracy: 0.8654 - val_loss: 0.3634 - val_accuracy: 0.8527\n",
      "Epoch 68/100\n",
      "536/536 [==============================] - 3s 5ms/step - loss: 0.3256 - accuracy: 0.8616 - val_loss: 0.3636 - val_accuracy: 0.8542\n",
      "Epoch 69/100\n",
      "536/536 [==============================] - 2s 4ms/step - loss: 0.3221 - accuracy: 0.8643 - val_loss: 0.3647 - val_accuracy: 0.8531\n",
      "Epoch 70/100\n",
      "536/536 [==============================] - 2s 4ms/step - loss: 0.3304 - accuracy: 0.8647 - val_loss: 0.3657 - val_accuracy: 0.8519\n",
      "Epoch 71/100\n",
      "536/536 [==============================] - 2s 4ms/step - loss: 0.3339 - accuracy: 0.8565 - val_loss: 0.3676 - val_accuracy: 0.8523\n",
      "Epoch 72/100\n",
      "536/536 [==============================] - 3s 5ms/step - loss: 0.3345 - accuracy: 0.8559 - val_loss: 0.3648 - val_accuracy: 0.8512\n",
      "Epoch 73/100\n",
      "536/536 [==============================] - 3s 5ms/step - loss: 0.3165 - accuracy: 0.8668 - val_loss: 0.3637 - val_accuracy: 0.8523\n",
      "Epoch 74/100\n",
      "536/536 [==============================] - 2s 4ms/step - loss: 0.3296 - accuracy: 0.8595 - val_loss: 0.3691 - val_accuracy: 0.8535\n",
      "Epoch 75/100\n",
      "536/536 [==============================] - 2s 4ms/step - loss: 0.3360 - accuracy: 0.8584 - val_loss: 0.3673 - val_accuracy: 0.8538\n",
      "Epoch 76/100\n",
      "536/536 [==============================] - 2s 4ms/step - loss: 0.3178 - accuracy: 0.8682 - val_loss: 0.3687 - val_accuracy: 0.8501\n",
      "Epoch 77/100\n",
      "536/536 [==============================] - 3s 5ms/step - loss: 0.3268 - accuracy: 0.8613 - val_loss: 0.3652 - val_accuracy: 0.8527\n",
      "Epoch 78/100\n",
      "536/536 [==============================] - 2s 4ms/step - loss: 0.3201 - accuracy: 0.8645 - val_loss: 0.3656 - val_accuracy: 0.8508\n",
      "Epoch 79/100\n",
      "536/536 [==============================] - 2s 4ms/step - loss: 0.3209 - accuracy: 0.8636 - val_loss: 0.3651 - val_accuracy: 0.8527\n",
      "Epoch 80/100\n",
      "536/536 [==============================] - 2s 4ms/step - loss: 0.3316 - accuracy: 0.8587 - val_loss: 0.3666 - val_accuracy: 0.8516\n",
      "Epoch 81/100\n",
      "536/536 [==============================] - 3s 5ms/step - loss: 0.3178 - accuracy: 0.8636 - val_loss: 0.3637 - val_accuracy: 0.8516\n",
      "Epoch 82/100\n",
      "536/536 [==============================] - 3s 5ms/step - loss: 0.3201 - accuracy: 0.8649 - val_loss: 0.3633 - val_accuracy: 0.8531\n",
      "Epoch 83/100\n",
      "536/536 [==============================] - 2s 4ms/step - loss: 0.3276 - accuracy: 0.8685 - val_loss: 0.3640 - val_accuracy: 0.8508\n",
      "Epoch 84/100\n",
      "536/536 [==============================] - 2s 4ms/step - loss: 0.3403 - accuracy: 0.8543 - val_loss: 0.3677 - val_accuracy: 0.8493\n",
      "Epoch 85/100\n",
      "536/536 [==============================] - 3s 5ms/step - loss: 0.3195 - accuracy: 0.8615 - val_loss: 0.3641 - val_accuracy: 0.8531\n",
      "Epoch 86/100\n",
      "536/536 [==============================] - 3s 5ms/step - loss: 0.3249 - accuracy: 0.8632 - val_loss: 0.3647 - val_accuracy: 0.8519\n",
      "Epoch 87/100\n",
      "536/536 [==============================] - 2s 4ms/step - loss: 0.3371 - accuracy: 0.8593 - val_loss: 0.3642 - val_accuracy: 0.8531\n",
      "Epoch 88/100\n",
      "536/536 [==============================] - 2s 4ms/step - loss: 0.3260 - accuracy: 0.8631 - val_loss: 0.3651 - val_accuracy: 0.8519\n",
      "Epoch 89/100\n",
      "536/536 [==============================] - 3s 5ms/step - loss: 0.3175 - accuracy: 0.8673 - val_loss: 0.3631 - val_accuracy: 0.8542\n",
      "Epoch 90/100\n",
      "536/536 [==============================] - 3s 5ms/step - loss: 0.3222 - accuracy: 0.8659 - val_loss: 0.3660 - val_accuracy: 0.8508\n",
      "Epoch 91/100\n",
      "536/536 [==============================] - 2s 4ms/step - loss: 0.3262 - accuracy: 0.8631 - val_loss: 0.3637 - val_accuracy: 0.8538\n",
      "Epoch 92/100\n",
      "536/536 [==============================] - 2s 4ms/step - loss: 0.3175 - accuracy: 0.8643 - val_loss: 0.3676 - val_accuracy: 0.8497\n",
      "Epoch 93/100\n",
      "536/536 [==============================] - 2s 4ms/step - loss: 0.3343 - accuracy: 0.8564 - val_loss: 0.3658 - val_accuracy: 0.8512\n",
      "Epoch 94/100\n",
      "536/536 [==============================] - 3s 5ms/step - loss: 0.3205 - accuracy: 0.8678 - val_loss: 0.3678 - val_accuracy: 0.8497\n",
      "Epoch 95/100\n",
      "536/536 [==============================] - 2s 4ms/step - loss: 0.3229 - accuracy: 0.8658 - val_loss: 0.3651 - val_accuracy: 0.8504\n",
      "Epoch 96/100\n",
      "536/536 [==============================] - 2s 4ms/step - loss: 0.3444 - accuracy: 0.8550 - val_loss: 0.3649 - val_accuracy: 0.8519\n",
      "Epoch 97/100\n",
      "536/536 [==============================] - 2s 4ms/step - loss: 0.3270 - accuracy: 0.8572 - val_loss: 0.3649 - val_accuracy: 0.8512\n",
      "Epoch 98/100\n",
      "536/536 [==============================] - 3s 5ms/step - loss: 0.3000 - accuracy: 0.8770 - val_loss: 0.3638 - val_accuracy: 0.8512\n",
      "Epoch 99/100\n",
      "536/536 [==============================] - 2s 5ms/step - loss: 0.3330 - accuracy: 0.8647 - val_loss: 0.3644 - val_accuracy: 0.8535\n",
      "Epoch 100/100\n",
      "536/536 [==============================] - 2s 4ms/step - loss: 0.3327 - accuracy: 0.8618 - val_loss: 0.3647 - val_accuracy: 0.8504\n"
     ]
    }
   ],
   "source": [
    "classifier.compile(optimizer='adam',loss='binary_crossentropy',metrics=['accuracy'])\n",
    "model_histroy = model_history=classifier.fit(X_train, y_train,validation_split=0.33, batch_size = 10, epochs = 100)"
   ]
  },
  {
   "cell_type": "code",
   "execution_count": 18,
   "metadata": {
    "ExecuteTime": {
     "end_time": "2021-07-01T18:12:45.296479Z",
     "start_time": "2021-07-01T18:12:44.770476Z"
    }
   },
   "outputs": [
    {
     "name": "stdout",
     "output_type": "stream",
     "text": [
      "dict_keys(['loss', 'accuracy', 'val_loss', 'val_accuracy'])\n"
     ]
    },
    {
     "data": {
      "image/png": "[encoded data removed]",
      "text/plain": [
       "<Figure size 432x288 with 1 Axes>"
      ]
     },
     "metadata": {
      "needs_background": "light"
     },
     "output_type": "display_data"
    }
   ],
   "source": [
    "print(model_history.history.keys())\n",
    "plt.plot(model_history.history['val_loss'])\n",
    "plt.title('model loss')\n",
    "plt.ylabel('loss')\n",
    "plt.xlabel('epoch')\n",
    "plt.legend(['train','test'],loc=\"upper left\")\n",
    "plt.show()"
   ]
  },
  {
   "cell_type": "code",
   "execution_count": 19,
   "metadata": {
    "ExecuteTime": {
     "end_time": "2021-07-01T18:13:25.063693Z",
     "start_time": "2021-07-01T18:13:24.642699Z"
    }
   },
   "outputs": [],
   "source": [
    "y_pred = classifier.predict(X_test)\n",
    "y_pred = (y_pred >0.5)"
   ]
  },
  {
   "cell_type": "code",
   "execution_count": 23,
   "metadata": {
    "ExecuteTime": {
     "end_time": "2021-07-01T18:16:05.793637Z",
     "start_time": "2021-07-01T18:16:05.754684Z"
    }
   },
   "outputs": [],
   "source": [
    "from sklearn.metrics import confusion_matrix\n",
    "cm = confusion_matrix(y_test,y_pred)"
   ]
  },
  {
   "cell_type": "code",
   "execution_count": 24,
   "metadata": {
    "ExecuteTime": {
     "end_time": "2021-07-01T18:16:18.597724Z",
     "start_time": "2021-07-01T18:16:18.586765Z"
    }
   },
   "outputs": [
    {
     "data": {
      "text/plain": [
       "array([[1509,   86],\n",
       "       [ 199,  206]], dtype=int64)"
      ]
     },
     "execution_count": 24,
     "metadata": {},
     "output_type": "execute_result"
    }
   ],
   "source": [
    "cm"
   ]
  },
  {
   "cell_type": "code",
   "execution_count": 26,
   "metadata": {
    "ExecuteTime": {
     "end_time": "2021-07-01T18:17:44.422927Z",
     "start_time": "2021-07-01T18:17:44.407928Z"
    }
   },
   "outputs": [
    {
     "name": "stdout",
     "output_type": "stream",
     "text": [
      "85.75\n"
     ]
    }
   ],
   "source": [
    "from sklearn.metrics import accuracy_score\n",
    "score = accuracy_score(y_pred,y_test)\n",
    "print(score*100)"
   ]
  }
 ],
 "metadata": {
  "hide_input": false,
  "kernelspec": {
   "display_name": "Python 3",
   "language": "python",
   "name": "python3"
  },
  "language_info": {
   "codemirror_mode": {
    "name": "ipython",
    "version": 3
   },
   "file_extension": ".py",
   "mimetype": "text/x-python",
   "name": "python",
   "nbconvert_exporter": "python",
   "pygments_lexer": "ipython3",
   "version": "3.8.3"
  },
  "latex_envs": {
   "LaTeX_envs_menu_present": true,
   "autoclose": false,
   "autocomplete": true,
   "bibliofile": "biblio.bib",
   "cite_by": "apalike",
   "current_citInitial": 1,
   "eqLabelWithNumbers": true,
   "eqNumInitial": 1,
   "hotkeys": {
    "equation": "Ctrl-E",
    "itemize": "Ctrl-I"
   },
   "labels_anchors": false,
   "latex_user_defs": false,
   "report_style_numbering": false,
   "user_envs_cfg": false
  },
  "nbTranslate": {
   "displayLangs": [
    "*"
   ],
   "hotkey": "alt-t",
   "langInMainMenu": true,
   "sourceLang": "en",
   "targetLang": "fr",
   "useGoogleTranslate": true
  },
  "toc": {
   "base_numbering": 1,
   "nav_menu": {},
   "number_sections": true,
   "sideBar": true,
   "skip_h1_title": false,
   "title_cell": "Table of Contents",
   "title_sidebar": "Contents",
   "toc_cell": false,
   "toc_position": {},
   "toc_section_display": true,
   "toc_window_display": false
  },
  "varInspector": {
   "cols": {
    "lenName": 16,
    "lenType": 16,
    "lenVar": 40
   },
   "kernels_config": {
    "python": {
     "delete_cmd_postfix": "",
     "delete_cmd_prefix": "del ",
     "library": "var_list.py",
     "varRefreshCmd": "print(var_dic_list())"
    },
    "r": {
     "delete_cmd_postfix": ") ",
     "delete_cmd_prefix": "rm(",
     "library": "var_list.r",
     "varRefreshCmd": "cat(var_dic_list()) "
    }
   },
   "types_to_exclude": [
    "module",
    "function",
    "builtin_function_or_method",
    "instance",
    "_Feature"
   ],
   "window_display": false
  }
 },
 "nbformat": 4,
 "nbformat_minor": 4
}
